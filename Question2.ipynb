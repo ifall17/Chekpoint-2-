{
 "cells": [
  {
   "cell_type": "code",
   "execution_count": 28,
   "id": "7131d56c",
   "metadata": {},
   "outputs": [
    {
     "name": "stdout",
     "output_type": "stream",
     "text": [
      "-6\n",
      "erreur\n"
     ]
    }
   ],
   "source": [
    "n= int(input())\n",
    "if n==0:\n",
    "    print(\"Factorielle de \"f\"{n} \" \"est égal à 1\")\n",
    "if n>0:\n",
    "    fac = 1\n",
    "    for j in range(1,n+1):\n",
    "        fac = fac *j\n",
    "    print(\"Factorielle de \"f\"{n} \" \" est égale à \", fac)\n",
    "else :\n",
    "    print(\"erreur\")\n"
   ]
  },
  {
   "cell_type": "code",
   "execution_count": null,
   "id": "51aba07a",
   "metadata": {},
   "outputs": [],
   "source": []
  }
 ],
 "metadata": {
  "kernelspec": {
   "display_name": "Python 3 (ipykernel)",
   "language": "python",
   "name": "python3"
  },
  "language_info": {
   "codemirror_mode": {
    "name": "ipython",
    "version": 3
   },
   "file_extension": ".py",
   "mimetype": "text/x-python",
   "name": "python",
   "nbconvert_exporter": "python",
   "pygments_lexer": "ipython3",
   "version": "3.9.7"
  }
 },
 "nbformat": 4,
 "nbformat_minor": 5
}
