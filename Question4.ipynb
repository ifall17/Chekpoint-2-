{
 "cells": [
  {
   "cell_type": "code",
   "execution_count": null,
   "id": "76e9c2e3",
   "metadata": {},
   "outputs": [],
   "source": [
    "# chaine1 = str(input())\n",
    "chaine2 = list(chaine1)\n",
    "a = len(chaine2)\n",
    "\n",
    "print (\"veiller saisir un nombre ne dépassant pas la taille: \",a )\n",
    "indice = int(input())\n",
    "if indice > a :\n",
    "    print(\"l'indice est supérieur à la taille\")\n",
    "else  :\n",
    "    chaine2.pop(indice)\n",
    "chaine3 = \"\".join(chaine2)\n",
    "print(chaine3)\n",
    "#le faire dans une fonction\n",
    "\n",
    "\n"
   ]
  },
  {
   "cell_type": "code",
   "execution_count": null,
   "id": "0394697c",
   "metadata": {},
   "outputs": [],
   "source": [
    "\"\"\"\n",
    " #chaine1 = str(input())\n",
    "def missing_char (chaine1, indice):\n",
    "   \n",
    "    chaine2 = list(chaine1)\n",
    "    a = len(chaine2)\n",
    "\n",
    "    #print (\"veiller saisir un nombre ne dépassant pas la taille: \",a )\n",
    "    #indice = int(input())\n",
    "    if indice > a :\n",
    "        print(\"l'indice est supérieur à la taille\")\n",
    "    else  :\n",
    "        chaine2.pop(indice)\n",
    "    chaine3 = \"\".join(chaine2)\n",
    "    print(chaine3)\n",
    "print(missing_char('sdfgf',47))\n",
    "\"\"\""
   ]
  }
 ],
 "metadata": {
  "kernelspec": {
   "display_name": "Python 3 (ipykernel)",
   "language": "python",
   "name": "python3"
  },
  "language_info": {
   "codemirror_mode": {
    "name": "ipython",
    "version": 3
   },
   "file_extension": ".py",
   "mimetype": "text/x-python",
   "name": "python",
   "nbconvert_exporter": "python",
   "pygments_lexer": "ipython3",
   "version": "3.9.7"
  }
 },
 "nbformat": 4,
 "nbformat_minor": 5
}
