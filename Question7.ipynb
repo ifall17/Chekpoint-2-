{
 "cells": [
  {
   "cell_type": "code",
   "execution_count": 44,
   "id": "81f58dcc",
   "metadata": {},
   "outputs": [
    {
     "name": "stdout",
     "output_type": "stream",
     "text": [
      "Veiller entrer les valeurs de D: 55,5\n",
      "les valeurs de q sont :  13 , 4\n"
     ]
    }
   ],
   "source": [
    "import math \n",
    "d= []\n",
    "x = [ int(x) for x in input(\"Veiller entrer les valeurs de D: \").split(\",\")]\n",
    "for i in x:\n",
    "    d.append(int(math.sqrt((2*i*50)/30)))\n",
    "c= len(d)\n",
    "strd = \" , \".join(map(str, d))\n",
    "print (\"les valeurs de q sont : \", strd)\n"
   ]
  },
  {
   "cell_type": "code",
   "execution_count": null,
   "id": "6409f192",
   "metadata": {},
   "outputs": [],
   "source": []
  }
 ],
 "metadata": {
  "kernelspec": {
   "display_name": "Python 3 (ipykernel)",
   "language": "python",
   "name": "python3"
  },
  "language_info": {
   "codemirror_mode": {
    "name": "ipython",
    "version": 3
   },
   "file_extension": ".py",
   "mimetype": "text/x-python",
   "name": "python",
   "nbconvert_exporter": "python",
   "pygments_lexer": "ipython3",
   "version": "3.9.7"
  }
 },
 "nbformat": 4,
 "nbformat_minor": 5
}
